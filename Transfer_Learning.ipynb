{
  "nbformat": 4,
  "nbformat_minor": 0,
  "metadata": {
    "colab": {
      "name": "Transfer_Learning.ipynb",
      "provenance": [],
      "authorship_tag": "ABX9TyMc+R/AyF+V3ey8DBHNrdc2",
      "include_colab_link": true
    },
    "kernelspec": {
      "name": "python3",
      "display_name": "Python 3"
    },
    "language_info": {
      "name": "python"
    }
  },
  "cells": [
    {
      "cell_type": "markdown",
      "metadata": {
        "id": "view-in-github",
        "colab_type": "text"
      },
      "source": [
        "<a href=\"https://colab.research.google.com/github/HiimanshuSherawat/DLCVNLP/blob/main/Transfer_Learning.ipynb\" target=\"_parent\"><img src=\"https://colab.research.google.com/assets/colab-badge.svg\" alt=\"Open In Colab\"/></a>"
      ]
    },
    {
      "cell_type": "code",
      "execution_count": 1,
      "metadata": {
        "id": "1ufqrLxXZN9K"
      },
      "outputs": [],
      "source": [
        "import os\n",
        "import tensorflow as tf\n",
        "import numpy as np\n",
        "import matplotlib.pyplot as plt\n",
        "import seaborn as sns\n",
        "plt.style.use(\"fivethirtyeight\")\n",
        "%load_ext tensorboard"
      ]
    },
    {
      "cell_type": "code",
      "source": [
        "(X_train_full, y_train_full), (X_test, y_test) = tf.keras.datasets.fashion_mnist.load_data()\n",
        "X_train_full = X_train_full / 255.0\n",
        "X_test = X_test / 255.0\n",
        "X_valid, X_train = X_train_full[:5000], X_train_full[5000:]\n",
        "y_valid, y_train = y_train_full[:5000], y_train_full[5000:]"
      ],
      "metadata": {
        "colab": {
          "base_uri": "https://localhost:8080/"
        },
        "id": "6gOcCdbfZVEJ",
        "outputId": "43b1091a-eed1-4ddb-8f17-f8d3a883b54f"
      },
      "execution_count": 2,
      "outputs": [
        {
          "output_type": "stream",
          "name": "stdout",
          "text": [
            "Downloading data from https://storage.googleapis.com/tensorflow/tf-keras-datasets/train-labels-idx1-ubyte.gz\n",
            "32768/29515 [=================================] - 0s 0us/step\n",
            "40960/29515 [=========================================] - 0s 0us/step\n",
            "Downloading data from https://storage.googleapis.com/tensorflow/tf-keras-datasets/train-images-idx3-ubyte.gz\n",
            "26427392/26421880 [==============================] - 0s 0us/step\n",
            "26435584/26421880 [==============================] - 0s 0us/step\n",
            "Downloading data from https://storage.googleapis.com/tensorflow/tf-keras-datasets/t10k-labels-idx1-ubyte.gz\n",
            "16384/5148 [===============================================================================================] - 0s 0us/step\n",
            "Downloading data from https://storage.googleapis.com/tensorflow/tf-keras-datasets/t10k-images-idx3-ubyte.gz\n",
            "4423680/4422102 [==============================] - 0s 0us/step\n",
            "4431872/4422102 [==============================] - 0s 0us/step\n"
          ]
        }
      ]
    },
    {
      "cell_type": "code",
      "source": [
        "tf.random.set_seed(42)\n",
        "np.random.seed(42)\n",
        "\n",
        "LAYERS = [ tf.keras.layers.Flatten(input_shape=[28, 28]),\n",
        "    tf.keras.layers.Dense(300, kernel_initializer=\"he_normal\"),\n",
        "    tf.keras.layers.LeakyReLU(),\n",
        "    tf.keras.layers.Dense(100, kernel_initializer=\"he_normal\"),\n",
        "    tf.keras.layers.LeakyReLU(),\n",
        "    tf.keras.layers.Dense(10, activation=\"softmax\")]\n",
        "\n",
        "\n",
        "model = tf.keras.models.Sequential(LAYERS)"
      ],
      "metadata": {
        "id": "RHUQ_H8AZa6j"
      },
      "execution_count": 3,
      "outputs": []
    },
    {
      "cell_type": "code",
      "source": [
        "model.compile(loss=\"sparse_categorical_crossentropy\",\n",
        "              optimizer=tf.keras.optimizers.SGD(lr=1e-3),\n",
        "              metrics=[\"accuracy\"])"
      ],
      "metadata": {
        "colab": {
          "base_uri": "https://localhost:8080/"
        },
        "id": "mlgdR_RoZeax",
        "outputId": "9ea9324d-2f71-4252-9606-195ffcaefdda"
      },
      "execution_count": 4,
      "outputs": [
        {
          "output_type": "stream",
          "name": "stderr",
          "text": [
            "/usr/local/lib/python3.7/dist-packages/keras/optimizer_v2/gradient_descent.py:102: UserWarning: The `lr` argument is deprecated, use `learning_rate` instead.\n",
            "  super(SGD, self).__init__(name, **kwargs)\n"
          ]
        }
      ]
    },
    {
      "cell_type": "code",
      "source": [
        "model.summary()"
      ],
      "metadata": {
        "colab": {
          "base_uri": "https://localhost:8080/"
        },
        "id": "wfziSHwUZgb4",
        "outputId": "9cd5d832-0fed-486b-bf20-f743b5fbfc9b"
      },
      "execution_count": 5,
      "outputs": [
        {
          "output_type": "stream",
          "name": "stdout",
          "text": [
            "Model: \"sequential\"\n",
            "_________________________________________________________________\n",
            " Layer (type)                Output Shape              Param #   \n",
            "=================================================================\n",
            " flatten (Flatten)           (None, 784)               0         \n",
            "                                                                 \n",
            " dense (Dense)               (None, 300)               235500    \n",
            "                                                                 \n",
            " leaky_re_lu (LeakyReLU)     (None, 300)               0         \n",
            "                                                                 \n",
            " dense_1 (Dense)             (None, 100)               30100     \n",
            "                                                                 \n",
            " leaky_re_lu_1 (LeakyReLU)   (None, 100)               0         \n",
            "                                                                 \n",
            " dense_2 (Dense)             (None, 10)                1010      \n",
            "                                                                 \n",
            "=================================================================\n",
            "Total params: 266,610\n",
            "Trainable params: 266,610\n",
            "Non-trainable params: 0\n",
            "_________________________________________________________________\n"
          ]
        }
      ]
    },
    {
      "cell_type": "code",
      "source": [
        "history = model.fit(X_train, y_train, epochs=10,\n",
        "                    validation_data=(X_valid, y_valid), verbose=2)"
      ],
      "metadata": {
        "colab": {
          "base_uri": "https://localhost:8080/"
        },
        "id": "jUqZXf68Zj6W",
        "outputId": "29163dd1-fae3-4aaa-fb31-a6b0c777b8b0"
      },
      "execution_count": 6,
      "outputs": [
        {
          "output_type": "stream",
          "name": "stdout",
          "text": [
            "Epoch 1/10\n",
            "1719/1719 - 6s - loss: 1.2819 - accuracy: 0.6229 - val_loss: 0.8886 - val_accuracy: 0.7160 - 6s/epoch - 4ms/step\n",
            "Epoch 2/10\n",
            "1719/1719 - 5s - loss: 0.7955 - accuracy: 0.7361 - val_loss: 0.7130 - val_accuracy: 0.7656 - 5s/epoch - 3ms/step\n",
            "Epoch 3/10\n",
            "1719/1719 - 5s - loss: 0.6816 - accuracy: 0.7721 - val_loss: 0.6427 - val_accuracy: 0.7900 - 5s/epoch - 3ms/step\n",
            "Epoch 4/10\n",
            "1719/1719 - 5s - loss: 0.6217 - accuracy: 0.7944 - val_loss: 0.5900 - val_accuracy: 0.8064 - 5s/epoch - 3ms/step\n",
            "Epoch 5/10\n",
            "1719/1719 - 5s - loss: 0.5832 - accuracy: 0.8074 - val_loss: 0.5582 - val_accuracy: 0.8200 - 5s/epoch - 3ms/step\n",
            "Epoch 6/10\n",
            "1719/1719 - 5s - loss: 0.5553 - accuracy: 0.8156 - val_loss: 0.5350 - val_accuracy: 0.8238 - 5s/epoch - 3ms/step\n",
            "Epoch 7/10\n",
            "1719/1719 - 5s - loss: 0.5339 - accuracy: 0.8223 - val_loss: 0.5156 - val_accuracy: 0.8302 - 5s/epoch - 3ms/step\n",
            "Epoch 8/10\n",
            "1719/1719 - 5s - loss: 0.5173 - accuracy: 0.8272 - val_loss: 0.5079 - val_accuracy: 0.8284 - 5s/epoch - 3ms/step\n",
            "Epoch 9/10\n",
            "1719/1719 - 5s - loss: 0.5040 - accuracy: 0.8290 - val_loss: 0.4895 - val_accuracy: 0.8386 - 5s/epoch - 3ms/step\n",
            "Epoch 10/10\n",
            "1719/1719 - 5s - loss: 0.4924 - accuracy: 0.8319 - val_loss: 0.4817 - val_accuracy: 0.8396 - 5s/epoch - 3ms/step\n"
          ]
        }
      ]
    },
    {
      "cell_type": "code",
      "source": [
        "model.save(\"full_mnist_model.h5\")"
      ],
      "metadata": {
        "id": "qEVgGcFgaVKx"
      },
      "execution_count": 7,
      "outputs": []
    },
    {
      "cell_type": "markdown",
      "source": [
        "***Transfer*** **Learning**"
      ],
      "metadata": {
        "id": "KeyjsjNZaxD9"
      }
    },
    {
      "cell_type": "code",
      "source": [
        "load_full_mnist_model = tf.keras.models.load_model(\"full_mnist_model.h5\")"
      ],
      "metadata": {
        "id": "8XDwvb1Kanya"
      },
      "execution_count": 8,
      "outputs": []
    },
    {
      "cell_type": "code",
      "source": [
        "load_full_mnist_model.summary()"
      ],
      "metadata": {
        "colab": {
          "base_uri": "https://localhost:8080/"
        },
        "id": "XVUzw09vaqv3",
        "outputId": "642cff40-f6f8-43f0-eae5-0b983d63313a"
      },
      "execution_count": 9,
      "outputs": [
        {
          "output_type": "stream",
          "name": "stdout",
          "text": [
            "Model: \"sequential\"\n",
            "_________________________________________________________________\n",
            " Layer (type)                Output Shape              Param #   \n",
            "=================================================================\n",
            " flatten (Flatten)           (None, 784)               0         \n",
            "                                                                 \n",
            " dense (Dense)               (None, 300)               235500    \n",
            "                                                                 \n",
            " leaky_re_lu (LeakyReLU)     (None, 300)               0         \n",
            "                                                                 \n",
            " dense_1 (Dense)             (None, 100)               30100     \n",
            "                                                                 \n",
            " leaky_re_lu_1 (LeakyReLU)   (None, 100)               0         \n",
            "                                                                 \n",
            " dense_2 (Dense)             (None, 10)                1010      \n",
            "                                                                 \n",
            "=================================================================\n",
            "Total params: 266,610\n",
            "Trainable params: 266,610\n",
            "Non-trainable params: 0\n",
            "_________________________________________________________________\n"
          ]
        }
      ]
    },
    {
      "cell_type": "code",
      "source": [
        "np.where(y_train % 2 == 0, 1 , 0)"
      ],
      "metadata": {
        "colab": {
          "base_uri": "https://localhost:8080/"
        },
        "id": "9nO68gdwatPc",
        "outputId": "a74cfa9f-c63f-4c66-b3bf-4015c557d557"
      },
      "execution_count": 10,
      "outputs": [
        {
          "output_type": "execute_result",
          "data": {
            "text/plain": [
              "array([1, 1, 0, ..., 0, 1, 0])"
            ]
          },
          "metadata": {},
          "execution_count": 10
        }
      ]
    },
    {
      "cell_type": "code",
      "source": [
        "y_train[0], y_train[-1] "
      ],
      "metadata": {
        "colab": {
          "base_uri": "https://localhost:8080/"
        },
        "id": "C6-1FSk9a-4_",
        "outputId": "666103ec-fc85-4b70-ed00-fcec32ae9d99"
      },
      "execution_count": 11,
      "outputs": [
        {
          "output_type": "execute_result",
          "data": {
            "text/plain": [
              "(4, 5)"
            ]
          },
          "metadata": {},
          "execution_count": 11
        }
      ]
    },
    {
      "cell_type": "code",
      "source": [
        "def update_even_odd_labels(labels):\n",
        "    for idx, label in enumerate(labels):\n",
        "        labels[idx] = np.where(label % 2 == 0, 1 , 0)\n",
        "    return labels"
      ],
      "metadata": {
        "id": "P7zVyIOsbAly"
      },
      "execution_count": 12,
      "outputs": []
    },
    {
      "cell_type": "code",
      "source": [
        "y_train_bin, y_valid_bin, y_test_bin = update_even_odd_labels([y_train, y_valid, y_test])"
      ],
      "metadata": {
        "id": "jAoubu_BbC6Z"
      },
      "execution_count": 13,
      "outputs": []
    },
    {
      "cell_type": "code",
      "source": [
        "# Check trainable or not:\n",
        "\n",
        "for layer in load_full_mnist_model.layers:\n",
        "    print(f\"{layer.name}: {layer.trainable}\")"
      ],
      "metadata": {
        "colab": {
          "base_uri": "https://localhost:8080/"
        },
        "id": "XznZYg2DbFQ-",
        "outputId": "db518d04-f552-4d1e-acb2-d23c9d4b8417"
      },
      "execution_count": 14,
      "outputs": [
        {
          "output_type": "stream",
          "name": "stdout",
          "text": [
            "flatten: True\n",
            "dense: True\n",
            "leaky_re_lu: True\n",
            "dense_1: True\n",
            "leaky_re_lu_1: True\n",
            "dense_2: True\n"
          ]
        }
      ]
    },
    {
      "cell_type": "code",
      "source": [
        "# make lower layer UN-trainable except the last layer:\n",
        "\n",
        "for layer in load_full_mnist_model.layers[:-1]:\n",
        "    layer.trainable = False\n",
        "    print(f\"Now {layer.name}: {layer.trainable}\")"
      ],
      "metadata": {
        "colab": {
          "base_uri": "https://localhost:8080/"
        },
        "id": "LJxK1T6kbH9R",
        "outputId": "a75384b8-14c6-4d14-af38-6a4c6ff5a97b"
      },
      "execution_count": 15,
      "outputs": [
        {
          "output_type": "stream",
          "name": "stdout",
          "text": [
            "Now flatten: False\n",
            "Now dense: False\n",
            "Now leaky_re_lu: False\n",
            "Now dense_1: False\n",
            "Now leaky_re_lu_1: False\n"
          ]
        }
      ]
    },
    {
      "cell_type": "code",
      "source": [
        "new_model = tf.keras.models.Sequential(load_full_mnist_model.layers[:-1])\n",
        "new_model.add(\n",
        "    tf.keras.layers.Dense(1, activation=\"sigmoid\")\n",
        ")"
      ],
      "metadata": {
        "id": "IN40IPOcbKZ5"
      },
      "execution_count": 16,
      "outputs": []
    },
    {
      "cell_type": "code",
      "source": [
        "new_model.summary()"
      ],
      "metadata": {
        "colab": {
          "base_uri": "https://localhost:8080/"
        },
        "id": "OUFr-9t6bNiT",
        "outputId": "49219e01-5593-4ad6-b578-b34819defeb3"
      },
      "execution_count": 17,
      "outputs": [
        {
          "output_type": "stream",
          "name": "stdout",
          "text": [
            "Model: \"sequential_1\"\n",
            "_________________________________________________________________\n",
            " Layer (type)                Output Shape              Param #   \n",
            "=================================================================\n",
            " flatten (Flatten)           (None, 784)               0         \n",
            "                                                                 \n",
            " dense (Dense)               (None, 300)               235500    \n",
            "                                                                 \n",
            " leaky_re_lu (LeakyReLU)     (None, 300)               0         \n",
            "                                                                 \n",
            " dense_1 (Dense)             (None, 100)               30100     \n",
            "                                                                 \n",
            " leaky_re_lu_1 (LeakyReLU)   (None, 100)               0         \n",
            "                                                                 \n",
            " dense_3 (Dense)             (None, 1)                 101       \n",
            "                                                                 \n",
            "=================================================================\n",
            "Total params: 265,701\n",
            "Trainable params: 101\n",
            "Non-trainable params: 265,600\n",
            "_________________________________________________________________\n"
          ]
        }
      ]
    },
    {
      "cell_type": "code",
      "source": [
        "new_model.get_config()"
      ],
      "metadata": {
        "colab": {
          "base_uri": "https://localhost:8080/"
        },
        "id": "An5PHggZbPF5",
        "outputId": "7930c2c3-3c95-477f-d4bd-e045b602c0e9"
      },
      "execution_count": 18,
      "outputs": [
        {
          "output_type": "execute_result",
          "data": {
            "text/plain": [
              "{'layers': [{'class_name': 'InputLayer',\n",
              "   'config': {'batch_input_shape': (None, 28, 28),\n",
              "    'dtype': 'float32',\n",
              "    'name': 'flatten_input',\n",
              "    'ragged': False,\n",
              "    'sparse': False}},\n",
              "  {'class_name': 'Flatten',\n",
              "   'config': {'batch_input_shape': (None, 28, 28),\n",
              "    'data_format': 'channels_last',\n",
              "    'dtype': 'float32',\n",
              "    'name': 'flatten',\n",
              "    'trainable': False}},\n",
              "  {'class_name': 'Dense',\n",
              "   'config': {'activation': 'linear',\n",
              "    'activity_regularizer': None,\n",
              "    'bias_constraint': None,\n",
              "    'bias_initializer': {'class_name': 'Zeros', 'config': {}},\n",
              "    'bias_regularizer': None,\n",
              "    'dtype': 'float32',\n",
              "    'kernel_constraint': None,\n",
              "    'kernel_initializer': {'class_name': 'HeNormal', 'config': {'seed': None}},\n",
              "    'kernel_regularizer': None,\n",
              "    'name': 'dense',\n",
              "    'trainable': False,\n",
              "    'units': 300,\n",
              "    'use_bias': True}},\n",
              "  {'class_name': 'LeakyReLU',\n",
              "   'config': {'alpha': 0.30000001192092896,\n",
              "    'dtype': 'float32',\n",
              "    'name': 'leaky_re_lu',\n",
              "    'trainable': False}},\n",
              "  {'class_name': 'Dense',\n",
              "   'config': {'activation': 'linear',\n",
              "    'activity_regularizer': None,\n",
              "    'bias_constraint': None,\n",
              "    'bias_initializer': {'class_name': 'Zeros', 'config': {}},\n",
              "    'bias_regularizer': None,\n",
              "    'dtype': 'float32',\n",
              "    'kernel_constraint': None,\n",
              "    'kernel_initializer': {'class_name': 'HeNormal', 'config': {'seed': None}},\n",
              "    'kernel_regularizer': None,\n",
              "    'name': 'dense_1',\n",
              "    'trainable': False,\n",
              "    'units': 100,\n",
              "    'use_bias': True}},\n",
              "  {'class_name': 'LeakyReLU',\n",
              "   'config': {'alpha': 0.30000001192092896,\n",
              "    'dtype': 'float32',\n",
              "    'name': 'leaky_re_lu_1',\n",
              "    'trainable': False}},\n",
              "  {'class_name': 'Dense',\n",
              "   'config': {'activation': 'sigmoid',\n",
              "    'activity_regularizer': None,\n",
              "    'bias_constraint': None,\n",
              "    'bias_initializer': {'class_name': 'Zeros', 'config': {}},\n",
              "    'bias_regularizer': None,\n",
              "    'dtype': 'float32',\n",
              "    'kernel_constraint': None,\n",
              "    'kernel_initializer': {'class_name': 'GlorotUniform',\n",
              "     'config': {'seed': None}},\n",
              "    'kernel_regularizer': None,\n",
              "    'name': 'dense_3',\n",
              "    'trainable': True,\n",
              "    'units': 1,\n",
              "    'use_bias': True}}],\n",
              " 'name': 'sequential_1'}"
            ]
          },
          "metadata": {},
          "execution_count": 18
        }
      ]
    },
    {
      "cell_type": "code",
      "source": [
        "# Check trainable or not:\n",
        "\n",
        "for layer in new_model.layers:\n",
        "    print(f\"{layer.name}: {layer.trainable}\")"
      ],
      "metadata": {
        "colab": {
          "base_uri": "https://localhost:8080/"
        },
        "id": "XxsBjHzqbRU5",
        "outputId": "d291a004-54bd-49a8-c979-c9547d56218b"
      },
      "execution_count": 19,
      "outputs": [
        {
          "output_type": "stream",
          "name": "stdout",
          "text": [
            "flatten: False\n",
            "dense: False\n",
            "leaky_re_lu: False\n",
            "dense_1: False\n",
            "leaky_re_lu_1: False\n",
            "dense_3: True\n"
          ]
        }
      ]
    },
    {
      "cell_type": "code",
      "source": [
        "new_model.compile(loss=\"binary_crossentropy\",\n",
        "              optimizer=tf.keras.optimizers.SGD(lr=1e-3),\n",
        "              metrics=[\"accuracy\"])"
      ],
      "metadata": {
        "colab": {
          "base_uri": "https://localhost:8080/"
        },
        "id": "JVpNSB7SbUfb",
        "outputId": "3644a635-2d47-4296-8f54-3bb59d8ff8f1"
      },
      "execution_count": 20,
      "outputs": [
        {
          "output_type": "stream",
          "name": "stderr",
          "text": [
            "/usr/local/lib/python3.7/dist-packages/keras/optimizer_v2/gradient_descent.py:102: UserWarning: The `lr` argument is deprecated, use `learning_rate` instead.\n",
            "  super(SGD, self).__init__(name, **kwargs)\n"
          ]
        }
      ]
    },
    {
      "cell_type": "code",
      "source": [
        "new_history = new_model.fit(X_train, y_train_bin, epochs=10,\n",
        "                    validation_data=(X_valid, y_valid_bin), verbose=2)"
      ],
      "metadata": {
        "colab": {
          "base_uri": "https://localhost:8080/"
        },
        "id": "dNP8eddhbW84",
        "outputId": "131db571-cd06-44a0-91db-644d12715d2e"
      },
      "execution_count": 21,
      "outputs": [
        {
          "output_type": "stream",
          "name": "stdout",
          "text": [
            "Epoch 1/10\n",
            "1719/1719 - 4s - loss: 0.2867 - accuracy: 0.9086 - val_loss: 0.2017 - val_accuracy: 0.9426 - 4s/epoch - 2ms/step\n",
            "Epoch 2/10\n",
            "1719/1719 - 3s - loss: 0.1842 - accuracy: 0.9435 - val_loss: 0.1707 - val_accuracy: 0.9466 - 3s/epoch - 2ms/step\n",
            "Epoch 3/10\n",
            "1719/1719 - 3s - loss: 0.1651 - accuracy: 0.9471 - val_loss: 0.1583 - val_accuracy: 0.9474 - 3s/epoch - 2ms/step\n",
            "Epoch 4/10\n",
            "1719/1719 - 3s - loss: 0.1558 - accuracy: 0.9488 - val_loss: 0.1514 - val_accuracy: 0.9490 - 3s/epoch - 2ms/step\n",
            "Epoch 5/10\n",
            "1719/1719 - 3s - loss: 0.1500 - accuracy: 0.9498 - val_loss: 0.1466 - val_accuracy: 0.9512 - 3s/epoch - 2ms/step\n",
            "Epoch 6/10\n",
            "1719/1719 - 3s - loss: 0.1459 - accuracy: 0.9508 - val_loss: 0.1432 - val_accuracy: 0.9526 - 3s/epoch - 2ms/step\n",
            "Epoch 7/10\n",
            "1719/1719 - 3s - loss: 0.1427 - accuracy: 0.9517 - val_loss: 0.1405 - val_accuracy: 0.9542 - 3s/epoch - 2ms/step\n",
            "Epoch 8/10\n",
            "1719/1719 - 3s - loss: 0.1403 - accuracy: 0.9522 - val_loss: 0.1384 - val_accuracy: 0.9542 - 3s/epoch - 2ms/step\n",
            "Epoch 9/10\n",
            "1719/1719 - 3s - loss: 0.1382 - accuracy: 0.9527 - val_loss: 0.1365 - val_accuracy: 0.9546 - 3s/epoch - 2ms/step\n",
            "Epoch 10/10\n",
            "1719/1719 - 3s - loss: 0.1365 - accuracy: 0.9531 - val_loss: 0.1350 - val_accuracy: 0.9550 - 3s/epoch - 2ms/step\n"
          ]
        }
      ]
    },
    {
      "cell_type": "code",
      "source": [
        "new_model.evaluate(X_test, y_test_bin)"
      ],
      "metadata": {
        "colab": {
          "base_uri": "https://localhost:8080/"
        },
        "id": "oXxsDB-3bY4g",
        "outputId": "cc37052c-069c-4afc-922a-68eba854f240"
      },
      "execution_count": 22,
      "outputs": [
        {
          "output_type": "stream",
          "name": "stdout",
          "text": [
            "313/313 [==============================] - 1s 2ms/step - loss: 0.1442 - accuracy: 0.9520\n"
          ]
        },
        {
          "output_type": "execute_result",
          "data": {
            "text/plain": [
              "[0.14422181248664856, 0.9520000219345093]"
            ]
          },
          "metadata": {},
          "execution_count": 22
        }
      ]
    },
    {
      "cell_type": "code",
      "source": [
        "X_new = X_test[:3]\n",
        "y_test[:3], y_test_bin[:3]"
      ],
      "metadata": {
        "colab": {
          "base_uri": "https://localhost:8080/"
        },
        "id": "q8o3aQgtbbKA",
        "outputId": "6afe1ace-011a-428f-98d5-48b1ace554a7"
      },
      "execution_count": 23,
      "outputs": [
        {
          "output_type": "execute_result",
          "data": {
            "text/plain": [
              "(array([9, 2, 1], dtype=uint8), array([0, 1, 0]))"
            ]
          },
          "metadata": {},
          "execution_count": 23
        }
      ]
    },
    {
      "cell_type": "code",
      "source": [
        "new_model.predict(X_new)"
      ],
      "metadata": {
        "colab": {
          "base_uri": "https://localhost:8080/"
        },
        "id": "Sn1vEaWzbdZx",
        "outputId": "b43b43ef-8969-49fd-8d55-7ebdde3ca316"
      },
      "execution_count": 24,
      "outputs": [
        {
          "output_type": "execute_result",
          "data": {
            "text/plain": [
              "array([[0.00803134],\n",
              "       [0.99993324],\n",
              "       [0.00607854]], dtype=float32)"
            ]
          },
          "metadata": {},
          "execution_count": 24
        }
      ]
    },
    {
      "cell_type": "code",
      "source": [
        ""
      ],
      "metadata": {
        "id": "-f8edDjVbfl0"
      },
      "execution_count": null,
      "outputs": []
    }
  ]
}